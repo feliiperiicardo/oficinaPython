{
 "cells": [
  {
   "cell_type": "markdown",
   "metadata": {
    "id": "C4DKr6IJLukS"
   },
   "source": [
    "# 0. Exercícios Práticos"
   ]
  },
  {
   "cell_type": "markdown",
   "metadata": {
    "id": "BLDKPQm0L3Y_"
   },
   "source": [
    "## 1.0 Trabalhando Estrutura Condicionais"
   ]
  },
  {
   "cell_type": "markdown",
   "metadata": {
    "id": "n0Xs2a_pc2X5"
   },
   "source": [
    "### 1.0.1 Calculadora"
   ]
  },
  {
   "cell_type": "code",
   "execution_count": null,
   "metadata": {
    "id": "-qG5-wN0cKDx"
   },
   "outputs": [],
   "source": [
    "# Com os conceitos vistos até aqui, implemente uma calculadora\n",
    "# para efetuar as 4 operações básicas\n",
    "\n",
    "print(\"\\nSelecione o número da operação desejada: \\n\")\n",
    "print(\"1 - Soma\")\n",
    "print(\"2 - Subtração\")\n",
    "print(\"3 - Multiplicação\")\n",
    "print(\"4 - Divisão\")\n",
    "\n",
    "# Implemente seu código aqui"
   ]
  },
  {
   "cell_type": "markdown",
   "metadata": {
    "id": "smeCLz1Gc694"
   },
   "source": [
    "### 1.0.2 Verificando três valores do usuário"
   ]
  },
  {
   "cell_type": "code",
   "execution_count": null,
   "metadata": {
    "id": "PsSoe7qPeK_h"
   },
   "outputs": [],
   "source": [
    "# Implemente um programa capaz de receber três valores (a, b e c) inteiros \n",
    "# do usuário e verificar se são iguais ou quem são os maiores (imprimir na tela)\n",
    "\n",
    "a = int(input('Defina o valor de A\\n'))\n",
    "b = int(input('Agora defina o valor de B\\n'))\n",
    "c = int(input('Por último, defina o valor de C\\n'))\n",
    "\n",
    "# Implemente seu código aqui"
   ]
  },
  {
   "cell_type": "markdown",
   "metadata": {
    "id": "wIvGZ29MfyVH"
   },
   "source": [
    "### 1.0.3 Verificando meia-entrada"
   ]
  },
  {
   "cell_type": "code",
   "execution_count": null,
   "metadata": {
    "id": "ZuS-k0jEfxei"
   },
   "outputs": [],
   "source": [
    "# Implemente um programa capaz de verificar se o cidadão tem direito \n",
    "# a pagar meia entrada. Quem tem direito? \n",
    "# - idosos com 60 anos ou mais\n",
    "# - jovens de baixa renda entre 15 e 29 anos\n",
    "# - estudantes\n",
    "# - deficientes\n",
    "\n",
    "idade = int(input('Digite sua idade: \\n'))\n",
    "estudante = int(input('Digite:\\n 1 - Se ESTUDANTE\\n 0 - Caso contrário\\n'))\n",
    "deficiente = int(input('Digite:\\n 1 - Se DEFICIENTE\\n 0 - Caso contrário\\n'))\n",
    "baixa_renda =  int(input('Digite:\\n 1 - Se BAIXA RENDA\\n 0 - Caso contrário\\n'))\n",
    "\n",
    "# Implemente seu código aqui"
   ]
  },
  {
   "cell_type": "markdown",
   "metadata": {
    "id": "6sw6452cG0_W"
   },
   "source": [
    "### 1.0.4 Calculando o IMC"
   ]
  },
  {
   "cell_type": "markdown",
   "metadata": {
    "id": "8qnlOKG9HBoY"
   },
   "source": [
    "Implemente um programa capaz de calcular o IMC do cidadão e mostrar o resultado na tela indicando o respectivo resultado (ver referência IMC: [LINK](https://www.tuasaude.com/calculadora/imc/)). \n",
    "\n",
    "$$\n",
    "\\displaystyle\n",
    "IMC = \\frac{peso}{altura^{2}} \n",
    "$$"
   ]
  },
  {
   "cell_type": "code",
   "execution_count": null,
   "metadata": {
    "id": "XfLSQOIYJov5"
   },
   "outputs": [],
   "source": [
    "# Implemente seu código aqui"
   ]
  },
  {
   "cell_type": "markdown",
   "metadata": {
    "id": "h01wsKB1G5wq"
   },
   "source": [
    "### 1.0.5 Verificando aprovação"
   ]
  },
  {
   "cell_type": "code",
   "execution_count": null,
   "metadata": {
    "id": "e2qotT_BJuTE"
   },
   "outputs": [],
   "source": [
    "# Faça um programa capaz de calcular se o aluno foi aprovado\n",
    "# A aprovação do aluno se dá mediante ao valor do cálculo da média aritmética\n",
    "# correspondente as três notas que o aluno obteve. Será aprovado se a média \n",
    "# for maior ou igual a 7.0. Será reprovado caso a média for menor ou igua a 4.0. \n",
    "# Caso contrário, o aluno irá para recuperação e, só será aprovado se obtiver \n",
    "# nota maior ou igual a 5.0.\n",
    "\n",
    "# Implemente seu código aqui"
   ]
  }
 ],
 "metadata": {
  "colab": {
   "authorship_tag": "ABX9TyN45tMHwfEWkMD/W3mUMi4f",
   "name": "exerciciosPraticos.ipynb",
   "provenance": []
  },
  "kernelspec": {
   "display_name": "Python 3",
   "language": "python",
   "name": "python3"
  },
  "language_info": {
   "codemirror_mode": {
    "name": "ipython",
    "version": 3
   },
   "file_extension": ".py",
   "mimetype": "text/x-python",
   "name": "python",
   "nbconvert_exporter": "python",
   "pygments_lexer": "ipython3",
   "version": "3.7.4"
  }
 },
 "nbformat": 4,
 "nbformat_minor": 1
}
